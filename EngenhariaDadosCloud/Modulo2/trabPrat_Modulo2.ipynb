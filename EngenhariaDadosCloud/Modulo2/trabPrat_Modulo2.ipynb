{
  "cells": [
    {
      "cell_type": "code",
      "source": [
        "!pip install pyspark"
      ],
      "metadata": {
        "id": "mDjgFkYVUWHY"
      },
      "id": "mDjgFkYVUWHY",
      "execution_count": null,
      "outputs": []
    },
    {
      "cell_type": "code",
      "execution_count": null,
      "id": "2ab56561",
      "metadata": {
        "id": "2ab56561"
      },
      "outputs": [],
      "source": [
        "from pyspark.sql import SparkSession\n",
        "\n",
        "spark = SparkSession \\\n",
        "    .builder \\\n",
        "    .appName(\"Trabalho Pratico\") \\\n",
        "    .getOrCreate()\n",
        "\n",
        "spark.version"
      ]
    },
    {
      "cell_type": "code",
      "source": [
        "from google.colab import drive\n",
        "drive.mount('/content/drive')"
      ],
      "metadata": {
        "id": "yA319EvTUbd8"
      },
      "id": "yA319EvTUbd8",
      "execution_count": null,
      "outputs": []
    },
    {
      "cell_type": "code",
      "execution_count": null,
      "id": "bdd17ea8",
      "metadata": {
        "id": "bdd17ea8"
      },
      "outputs": [],
      "source": [
        "df_titles = spark.read.csv('/content/drive/MyDrive/MBA/title_basics.tsv', header=True, inferSchema=True, sep='\\t')\n",
        "df_ratings = spark.read.csv('/content/drive/MyDrive/MBA/title_ratings.tsv', header=True, inferSchema=True, sep='\\t')"
      ]
    },
    {
      "cell_type": "code",
      "source": [
        "df_titles.printSchema()"
      ],
      "metadata": {
        "id": "_mZqWy3XhbMT"
      },
      "id": "_mZqWy3XhbMT",
      "execution_count": null,
      "outputs": []
    },
    {
      "cell_type": "code",
      "source": [
        "df_ratings.printSchema()"
      ],
      "metadata": {
        "id": "MzDqZkHOiLHi"
      },
      "id": "MzDqZkHOiLHi",
      "execution_count": null,
      "outputs": []
    },
    {
      "cell_type": "code",
      "execution_count": null,
      "id": "fd1c4c43",
      "metadata": {
        "id": "fd1c4c43"
      },
      "outputs": [],
      "source": [
        "df_total = df_titles.join(df_ratings, df_ratings.tconst == df_titles.tconst, \"left_outer\")"
      ]
    },
    {
      "cell_type": "code",
      "source": [
        "df_total.printSchema()"
      ],
      "metadata": {
        "id": "SrF5j8SKi7mC"
      },
      "id": "SrF5j8SKi7mC",
      "execution_count": null,
      "outputs": []
    },
    {
      "cell_type": "code",
      "source": [
        "df_total = df_total.withColumn('startYear',df_total.startYear.cast('int'))"
      ],
      "metadata": {
        "id": "EbAkFjsnmn0j"
      },
      "id": "EbAkFjsnmn0j",
      "execution_count": null,
      "outputs": []
    },
    {
      "cell_type": "code",
      "source": [
        "from pyspark.sql.functions import col\n",
        "##Quantos filmes (incluindo os da televisão) foram lançados no ano de 2015?\n",
        "df_total.groupBy('startYear', 'titleType').count().sort(col('startYear').desc()).where(col('startYear') == 2015).show()"
      ],
      "metadata": {
        "id": "Egsg2CSQimdj"
      },
      "id": "Egsg2CSQimdj",
      "execution_count": null,
      "outputs": []
    },
    {
      "cell_type": "code",
      "source": [
        "#Qual o gênero de títulos mais frequente?\n",
        "df_total.groupBy('genres').count().sort(col('count').desc()).show()"
      ],
      "metadata": {
        "id": "adCAeW--jQkK"
      },
      "id": "adCAeW--jQkK",
      "execution_count": null,
      "outputs": []
    },
    {
      "cell_type": "code",
      "source": [
        "##Qual o gênero com a melhor nota média de títulos?\n",
        "#df_total.groupBy('genres').agg({'averageRating':'avg'}).show()\n",
        "df_total.groupBy('genres').avg('averageRating').sort(col('avg(averageRating)').desc()).show()"
      ],
      "metadata": {
        "id": "cDdxzgtmq5zY"
      },
      "id": "cDdxzgtmq5zY",
      "execution_count": null,
      "outputs": []
    },
    {
      "cell_type": "code",
      "source": [
        "##Qual o vídeo game do gênero aventura mais bem avaliado em 2020?\n",
        "df_total.select('primaryTitle', 'averageRating') \\\n",
        "        .where((col('titleType') == 'videoGame') & (col('startYear') == 2020) & (col('genres').contains('Adventure'))) \\\n",
        "        .sort(col('averageRating').desc()).show()"
      ],
      "metadata": {
        "id": "oDsp-MIoqrjm"
      },
      "id": "oDsp-MIoqrjm",
      "execution_count": null,
      "outputs": []
    },
    {
      "cell_type": "code",
      "source": [
        "##Quantos títulos de filmes diferentes existem?\n",
        "df_titles.select('primaryTitle').distinct().count()"
      ],
      "metadata": {
        "id": "aB-Yve5_xLJi"
      },
      "id": "aB-Yve5_xLJi",
      "execution_count": null,
      "outputs": []
    },
    {
      "cell_type": "code",
      "source": [
        "##Qual a duração média dos filmes com conteúdo adulto? Use uma combinação de filter() e describe().\n",
        "\n",
        "df_total.filter(df_total.isAdult == '1').describe(['runtimeMinutes']).show()"
      ],
      "metadata": {
        "id": "m81mzKCwxeX1"
      },
      "id": "m81mzKCwxeX1",
      "execution_count": null,
      "outputs": []
    },
    {
      "cell_type": "code",
      "source": [
        "##Quantos filmes têm o título atual (“primary”) diferente do título original? Use uma combinação de filter, e count().\n",
        "\n",
        "df_total.filter(df_total.primaryTitle != df_total.originalTitle).count()"
      ],
      "metadata": {
        "id": "KJLqgt4LzVTE"
      },
      "id": "KJLqgt4LzVTE",
      "execution_count": null,
      "outputs": []
    },
    {
      "cell_type": "code",
      "source": [
        "from pyspark.sql.functions import length\n",
        "##Qual o filme que tem o nome mais longo?\n",
        "df_titles.orderBy(length(col(\"primaryTitle\")).desc()).show()"
      ],
      "metadata": {
        "id": "HAZ2R0ZB0Ypc"
      },
      "id": "HAZ2R0ZB0Ypc",
      "execution_count": null,
      "outputs": []
    },
    {
      "cell_type": "code",
      "source": [
        "## Qual filme tem a maior quantidade de votos? Dica: Use describe().\n",
        "#df_total.where((df_total.titleType == 'movie') | (df_total.titleType == 'tvMovie')).sort(col('numVotes').desc()).show()\n",
        "df_total.sort(col('numVotes').desc()).show()"
      ],
      "metadata": {
        "id": "VXC2VlJd1Jd7"
      },
      "id": "VXC2VlJd1Jd7",
      "execution_count": null,
      "outputs": []
    },
    {
      "cell_type": "code",
      "source": [
        "## Qual é a menor nota média de um filme? Use describe().\n",
        "df_total.describe(['averageRating']).show()"
      ],
      "metadata": {
        "id": "OMQprOYO4KGa"
      },
      "id": "OMQprOYO4KGa",
      "execution_count": null,
      "outputs": []
    }
  ],
  "metadata": {
    "kernelspec": {
      "display_name": "Python 3 (ipykernel)",
      "language": "python",
      "name": "python3"
    },
    "language_info": {
      "codemirror_mode": {
        "name": "ipython",
        "version": 3
      },
      "file_extension": ".py",
      "mimetype": "text/x-python",
      "name": "python",
      "nbconvert_exporter": "python",
      "pygments_lexer": "ipython3",
      "version": "3.10.6"
    },
    "colab": {
      "provenance": []
    }
  },
  "nbformat": 4,
  "nbformat_minor": 5
}