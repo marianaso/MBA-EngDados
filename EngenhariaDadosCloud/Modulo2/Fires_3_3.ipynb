{
  "cells": [
    {
      "cell_type": "code",
      "source": [
        "!pip install pyspark"
      ],
      "metadata": {
        "id": "mDjgFkYVUWHY"
      },
      "id": "mDjgFkYVUWHY",
      "execution_count": null,
      "outputs": []
    },
    {
      "cell_type": "code",
      "execution_count": null,
      "id": "2ab56561",
      "metadata": {
        "id": "2ab56561"
      },
      "outputs": [],
      "source": [
        "# https://data.sfgov.org/Public-Safety/Fire-Department-Calls-for-Service/nuek-vuh3\n",
        "# https://raw.githubusercontent.com/databricks/LearningSparkV2/master/chapter3/data/sf-fire-calls.csv\n",
        "# https://www.databricks.com/notebooks/gallery/SanFranciscoFireCallsAnalysis.html\n",
        "\n",
        "from pyspark.sql import SparkSession\n",
        "\n",
        "spark = SparkSession \\\n",
        "    .builder \\\n",
        "    .appName(\"Aula 3.3\") \\\n",
        "    .getOrCreate()\n",
        "\n",
        "spark.version"
      ]
    },
    {
      "cell_type": "code",
      "source": [
        "from google.colab import drive\n",
        "drive.mount('/content/drive')"
      ],
      "metadata": {
        "id": "yA319EvTUbd8"
      },
      "id": "yA319EvTUbd8",
      "execution_count": null,
      "outputs": []
    },
    {
      "cell_type": "code",
      "execution_count": null,
      "id": "bdd17ea8",
      "metadata": {
        "colab": {
          "base_uri": "https://localhost:8080/"
        },
        "id": "bdd17ea8",
        "outputId": "925eb951-9fd6-4f69-d7ad-1ae64979cfb7"
      },
      "outputs": [
        {
          "output_type": "stream",
          "name": "stdout",
          "text": [
            "root\n",
            " |-- CallNumber: integer (nullable = true)\n",
            " |-- UnitID: string (nullable = true)\n",
            " |-- IncidentNumber: integer (nullable = true)\n",
            " |-- CallType: string (nullable = true)\n",
            " |-- CallDate: string (nullable = true)\n",
            " |-- WatchDate: string (nullable = true)\n",
            " |-- CallFinalDisposition: string (nullable = true)\n",
            " |-- AvailableDtTm: string (nullable = true)\n",
            " |-- Address: string (nullable = true)\n",
            " |-- City: string (nullable = true)\n",
            " |-- Zipcode: integer (nullable = true)\n",
            " |-- Battalion: string (nullable = true)\n",
            " |-- StationArea: string (nullable = true)\n",
            " |-- Box: string (nullable = true)\n",
            " |-- OriginalPriority: string (nullable = true)\n",
            " |-- Priority: string (nullable = true)\n",
            " |-- FinalPriority: integer (nullable = true)\n",
            " |-- ALSUnit: boolean (nullable = true)\n",
            " |-- CallTypeGroup: string (nullable = true)\n",
            " |-- NumAlarms: integer (nullable = true)\n",
            " |-- UnitType: string (nullable = true)\n",
            " |-- UnitSequenceInCallDispatch: integer (nullable = true)\n",
            " |-- FirePreventionDistrict: string (nullable = true)\n",
            " |-- SupervisorDistrict: string (nullable = true)\n",
            " |-- Neighborhood: string (nullable = true)\n",
            " |-- Location: string (nullable = true)\n",
            " |-- RowID: string (nullable = true)\n",
            " |-- Delay: double (nullable = true)\n",
            "\n"
          ]
        }
      ],
      "source": [
        "fire_df = spark.read.csv('/content/drive/MyDrive/MBA/sf-fire-calls.csv', header=True, inferSchema=True)\n",
        "\n",
        "fire_df.printSchema()"
      ]
    },
    {
      "cell_type": "code",
      "execution_count": null,
      "id": "fd1c4c43",
      "metadata": {
        "id": "fd1c4c43"
      },
      "outputs": [],
      "source": [
        "fire_df.head(5)"
      ]
    },
    {
      "cell_type": "code",
      "execution_count": null,
      "id": "047341b7",
      "metadata": {
        "id": "047341b7"
      },
      "outputs": [],
      "source": [
        "fire_df = fire_df.withColumnRenamed(\"Delay\", \"ResponseDelayinMins\")"
      ]
    },
    {
      "cell_type": "code",
      "execution_count": null,
      "id": "752922b7",
      "metadata": {
        "colab": {
          "base_uri": "https://localhost:8080/"
        },
        "id": "752922b7",
        "outputId": "b3ff1cbc-558c-4930-8813-226d02f18c68"
      },
      "outputs": [
        {
          "output_type": "stream",
          "name": "stdout",
          "text": [
            "+-------+-------------------+\n",
            "|summary|ResponseDelayinMins|\n",
            "+-------+-------------------+\n",
            "|  count|             175296|\n",
            "|   mean| 3.8923641541750342|\n",
            "| stddev|  9.378286170882737|\n",
            "|    min|        0.016666668|\n",
            "|    max|            1844.55|\n",
            "+-------+-------------------+\n",
            "\n"
          ]
        }
      ],
      "source": [
        "fire_df.describe(['ResponseDelayinMins']).show()"
      ]
    },
    {
      "cell_type": "code",
      "execution_count": null,
      "id": "dc41c6c2",
      "metadata": {
        "id": "dc41c6c2"
      },
      "outputs": [],
      "source": [
        "fire_df.describe(['ResponseDelayinMins']).show()"
      ]
    },
    {
      "cell_type": "code",
      "execution_count": null,
      "id": "8f59f33a",
      "metadata": {
        "colab": {
          "base_uri": "https://localhost:8080/"
        },
        "id": "8f59f33a",
        "outputId": "c4f3a700-6e8f-4d69-fb36-f318d0a7f270"
      },
      "outputs": [
        {
          "output_type": "stream",
          "name": "stdout",
          "text": [
            "+-------+-------------------+\n",
            "|summary|ResponseDelayinMins|\n",
            "+-------+-------------------+\n",
            "|  count|             175296|\n",
            "|   mean| 3.8923641541750342|\n",
            "| stddev|  9.378286170882737|\n",
            "|    min|        0.016666668|\n",
            "|    25%|          2.1833334|\n",
            "|    50%|          3.0833333|\n",
            "|    75%|           4.233333|\n",
            "|    max|            1844.55|\n",
            "+-------+-------------------+\n",
            "\n"
          ]
        }
      ],
      "source": [
        "fire_df.select(\"ResponseDelayinMins\").summary().show()"
      ]
    },
    {
      "cell_type": "code",
      "execution_count": null,
      "id": "d9bc3566",
      "metadata": {
        "colab": {
          "base_uri": "https://localhost:8080/"
        },
        "id": "d9bc3566",
        "outputId": "bbeda91b-1956-4dbf-a772-6546ff88a151"
      },
      "outputs": [
        {
          "output_type": "stream",
          "name": "stdout",
          "text": [
            "+-------+-------------------+\n",
            "|summary|          NumAlarms|\n",
            "+-------+-------------------+\n",
            "|  count|             175296|\n",
            "|   mean| 1.0049858525009128|\n",
            "| stddev|0.09811952680742073|\n",
            "|    min|                  1|\n",
            "|    25%|                  1|\n",
            "|    50%|                  1|\n",
            "|    75%|                  1|\n",
            "|    max|                  5|\n",
            "+-------+-------------------+\n",
            "\n"
          ]
        }
      ],
      "source": [
        "fire_df.select(\"NumAlarms\").summary().show()"
      ]
    }
  ],
  "metadata": {
    "kernelspec": {
      "display_name": "Python 3 (ipykernel)",
      "language": "python",
      "name": "python3"
    },
    "language_info": {
      "codemirror_mode": {
        "name": "ipython",
        "version": 3
      },
      "file_extension": ".py",
      "mimetype": "text/x-python",
      "name": "python",
      "nbconvert_exporter": "python",
      "pygments_lexer": "ipython3",
      "version": "3.10.6"
    },
    "colab": {
      "provenance": []
    }
  },
  "nbformat": 4,
  "nbformat_minor": 5
}