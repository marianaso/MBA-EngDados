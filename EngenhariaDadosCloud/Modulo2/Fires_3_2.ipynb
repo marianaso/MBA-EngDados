{
  "cells": [
    {
      "cell_type": "code",
      "source": [
        "!pip install pyspark"
      ],
      "metadata": {
        "id": "1QmfCCGBTGIJ"
      },
      "id": "1QmfCCGBTGIJ",
      "execution_count": null,
      "outputs": []
    },
    {
      "cell_type": "code",
      "execution_count": null,
      "id": "2ab56561",
      "metadata": {
        "id": "2ab56561"
      },
      "outputs": [],
      "source": [
        "# https://data.sfgov.org/Public-Safety/Fire-Department-Calls-for-Service/nuek-vuh3\n",
        "# https://www.databricks.com/notebooks/gallery/SanFranciscoFireCallsAnalysis.html\n",
        "# Download aqui: # https://raw.githubusercontent.com/databricks/LearningSparkV2/master/chapter3/data/sf-fire-calls.csv\n",
        "\n",
        "from pyspark.sql import SparkSession\n",
        "\n",
        "spark = SparkSession \\\n",
        "    .builder \\\n",
        "    .appName(\"Aula 3.2\") \\\n",
        "    .getOrCreate()\n",
        "\n",
        "spark.version"
      ]
    },
    {
      "cell_type": "code",
      "source": [
        "from google.colab import drive\n",
        "drive.mount('/content/drive')"
      ],
      "metadata": {
        "id": "gcdWwfPdTYJ1"
      },
      "id": "gcdWwfPdTYJ1",
      "execution_count": null,
      "outputs": []
    },
    {
      "cell_type": "code",
      "execution_count": null,
      "id": "bdd17ea8",
      "metadata": {
        "id": "bdd17ea8"
      },
      "outputs": [],
      "source": [
        "fire_df = spark.read.csv('/content/drive/MyDrive/MBA/sf-fire-calls.csv', header=True, inferSchema=True)\n",
        "\n",
        "fire_df.printSchema()"
      ]
    },
    {
      "cell_type": "code",
      "execution_count": null,
      "id": "fd1c4c43",
      "metadata": {
        "id": "fd1c4c43"
      },
      "outputs": [],
      "source": [
        "fire_df.head(5)"
      ]
    },
    {
      "cell_type": "code",
      "execution_count": null,
      "id": "dc41c6c2",
      "metadata": {
        "id": "dc41c6c2"
      },
      "outputs": [],
      "source": [
        "fire_df.count()"
      ]
    },
    {
      "cell_type": "code",
      "execution_count": null,
      "id": "94de2937",
      "metadata": {
        "id": "94de2937"
      },
      "outputs": [],
      "source": [
        "fire_df.select('CallType').distinct().show()"
      ]
    },
    {
      "cell_type": "code",
      "execution_count": null,
      "id": "1aa4ab9f",
      "metadata": {
        "id": "1aa4ab9f"
      },
      "outputs": [],
      "source": [
        "fire_df.select('CallType').distinct().count()"
      ]
    },
    {
      "cell_type": "code",
      "execution_count": null,
      "id": "3f65f13a",
      "metadata": {
        "id": "3f65f13a"
      },
      "outputs": [],
      "source": [
        "from pyspark.sql.functions import col\n",
        "\n",
        "fire_df.groupBy('CallType').count().sort(col(\"count\").desc()).show()"
      ]
    },
    {
      "cell_type": "code",
      "execution_count": null,
      "id": "913ccfbd",
      "metadata": {
        "id": "913ccfbd"
      },
      "outputs": [],
      "source": [
        "fire_df.groupBy('CallType', 'UnitType').count().sort(col(\"count\").desc()).show()"
      ]
    },
    {
      "cell_type": "code",
      "execution_count": null,
      "id": "d168f4a4",
      "metadata": {
        "id": "d168f4a4"
      },
      "outputs": [],
      "source": [
        "fire_df = fire_df.withColumnRenamed(\"Delay\", \"ResponseDelayedinMins\")\n",
        "\n",
        "fire_df.printSchema()"
      ]
    },
    {
      "cell_type": "markdown",
      "source": [],
      "metadata": {
        "id": "noN7B7mPqFqS"
      },
      "id": "noN7B7mPqFqS"
    },
    {
      "cell_type": "code",
      "execution_count": null,
      "id": "e683f185",
      "metadata": {
        "id": "e683f185"
      },
      "outputs": [],
      "source": [
        "fire_df.select(\"CallNumber\",\"ResponseDelayedinMins\").where(col(\"ResponseDelayedinMins\") > 15).show(5)\n"
      ]
    },
    {
      "cell_type": "code",
      "execution_count": null,
      "id": "90903a48",
      "metadata": {
        "id": "90903a48"
      },
      "outputs": [],
      "source": [
        "fire_df \\\n",
        " .select(\"CallType\", \"ZipCode\")  \\\n",
        " .where(col(\"CallType\").isNotNull()) \\\n",
        " .groupBy(\"CallType\", \"Zipcode\") \\\n",
        " .count() \\\n",
        " .orderBy(\"count\", ascending=False) \\\n",
        " .show()"
      ]
    }
  ],
  "metadata": {
    "kernelspec": {
      "display_name": "Python 3 (ipykernel)",
      "language": "python",
      "name": "python3"
    },
    "language_info": {
      "codemirror_mode": {
        "name": "ipython",
        "version": 3
      },
      "file_extension": ".py",
      "mimetype": "text/x-python",
      "name": "python",
      "nbconvert_exporter": "python",
      "pygments_lexer": "ipython3",
      "version": "3.10.6"
    },
    "colab": {
      "provenance": []
    }
  },
  "nbformat": 4,
  "nbformat_minor": 5
}