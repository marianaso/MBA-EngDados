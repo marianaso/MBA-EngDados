{
  "cells": [
    {
      "cell_type": "code",
      "source": [
        "!pip install pyspark"
      ],
      "metadata": {
        "id": "1QNflsBuAHIQ"
      },
      "id": "1QNflsBuAHIQ",
      "execution_count": null,
      "outputs": []
    },
    {
      "cell_type": "code",
      "execution_count": null,
      "id": "2ab56561",
      "metadata": {
        "id": "2ab56561"
      },
      "outputs": [],
      "source": [
        "from pyspark.sql import SparkSession\n",
        "\n",
        "spark = SparkSession \\\n",
        "    .builder \\\n",
        "    .appName(\"desafio modulo2\") \\\n",
        "    .getOrCreate()\n",
        "\n",
        "spark.version"
      ]
    },
    {
      "cell_type": "code",
      "source": [
        "from google.colab import drive\n",
        "drive.mount('/content/drive')"
      ],
      "metadata": {
        "id": "mQhLgVrdAOY9"
      },
      "id": "mQhLgVrdAOY9",
      "execution_count": null,
      "outputs": []
    },
    {
      "cell_type": "code",
      "execution_count": null,
      "id": "bdd17ea8",
      "metadata": {
        "id": "bdd17ea8"
      },
      "outputs": [],
      "source": [
        "estabelecimentos = spark.read.csv('/content/drive/MyDrive/MBA/dados/estabelecimentos/estabelecimentos/', header=True, inferSchema=True, sep = ';')\n",
        "\n",
        "estabelecimentos.printSchema()"
      ]
    },
    {
      "cell_type": "code",
      "execution_count": null,
      "id": "fd1c4c43",
      "metadata": {
        "id": "fd1c4c43"
      },
      "outputs": [],
      "source": [
        "cnaes = spark.read.csv('/content/drive/MyDrive/MBA/dados/cnaes/cnaes.csv', header=True, inferSchema=True, sep = ';')\n",
        "\n",
        "cnaes.printSchema()"
      ]
    },
    {
      "cell_type": "code",
      "source": [
        "estabelecimentos.write.parquet(\"/content/drive/MyDrive/MBA/dados/estabelecimentos/parquet/estabelecimentos.parquet\") "
      ],
      "metadata": {
        "id": "HUGwpg15wVPO"
      },
      "id": "HUGwpg15wVPO",
      "execution_count": null,
      "outputs": []
    },
    {
      "cell_type": "code",
      "execution_count": null,
      "id": "dfb482f2",
      "metadata": {
        "id": "dfb482f2"
      },
      "outputs": [],
      "source": [
        "estabelecimentos.createOrReplaceTempView(\"estabelecimentos\")\n",
        "\n",
        "spark.sql(\"SELECT COUNT(*) FROM estabelecimentos\").show()"
      ]
    },
    {
      "cell_type": "code",
      "source": [
        "estabelecimentos.createOrReplaceTempView(\"estabelecimentos\")\n",
        "\n",
        "spark.sql(\"SELECT COUNT(*) FROM estabelecimentos WHERE LOGRADOURO IS NULL\").show()"
      ],
      "metadata": {
        "id": "FBXw34Uoxk7I"
      },
      "id": "FBXw34Uoxk7I",
      "execution_count": null,
      "outputs": []
    },
    {
      "cell_type": "code",
      "source": [
        "def is_avenida(logradouro):\n",
        "  if logradouro is not None: \n",
        "    logradouro = logradouro.upper()\n",
        "    x = logradouro.startswith(\"AVENIDA\")\n",
        "    return x"
      ],
      "metadata": {
        "id": "UOtmaeAeziGU"
      },
      "id": "UOtmaeAeziGU",
      "execution_count": null,
      "outputs": []
    },
    {
      "cell_type": "code",
      "source": [
        "from pyspark.sql.functions import udf\n",
        "spark.udf.register(\"is_avenida\", is_avenida)"
      ],
      "metadata": {
        "id": "niHhKtPm1Pgk"
      },
      "id": "niHhKtPm1Pgk",
      "execution_count": null,
      "outputs": []
    },
    {
      "cell_type": "code",
      "source": [
        "estabelecimentos.createOrReplaceTempView(\"estabelecimentos\")\n",
        "\n",
        "spark.sql(\"SELECT COUNT(*) FROM estabelecimentos WHERE is_avenida(LOGRADOURO) == True\").show()"
      ],
      "metadata": {
        "id": "uuOSYXDF22nI"
      },
      "id": "uuOSYXDF22nI",
      "execution_count": null,
      "outputs": []
    },
    {
      "cell_type": "code",
      "source": [
        "estabelecimentos.createOrReplaceTempView(\"estabelecimentos\")\n",
        "\n",
        "spark.sql(\"SELECT COUNT(DISTINCT(CEP)) FROM estabelecimentos WHERE CEP IS NOT NULL\").show()"
      ],
      "metadata": {
        "id": "npAFTX555YRh"
      },
      "id": "npAFTX555YRh",
      "execution_count": null,
      "outputs": []
    },
    {
      "cell_type": "code",
      "source": [
        "cnaes.createOrReplaceTempView(\"cnaes\")\n",
        "\n",
        "spark.sql(\"SELECT COUNT(*) FROM cnaes\").show()"
      ],
      "metadata": {
        "id": "ZAwXJhXV0VNY"
      },
      "id": "ZAwXJhXV0VNY",
      "execution_count": null,
      "outputs": []
    },
    {
      "cell_type": "code",
      "source": [
        "def is_cnae_cultivo(descricao_cnae):\n",
        "  if descricao_cnae is not None:\n",
        "    descricao_cnae = descricao_cnae.upper()\n",
        "    x = descricao_cnae.startswith(\"CULTIVO\")\n",
        "    return x\n",
        "  else:\n",
        "    return False"
      ],
      "metadata": {
        "id": "uNboVlrG6Syo"
      },
      "id": "uNboVlrG6Syo",
      "execution_count": null,
      "outputs": []
    },
    {
      "cell_type": "code",
      "source": [
        "spark.udf.register(\"is_cnae_cultivo\", is_cnae_cultivo)"
      ],
      "metadata": {
        "id": "9yCAUJdY6_M6"
      },
      "id": "9yCAUJdY6_M6",
      "execution_count": null,
      "outputs": []
    },
    {
      "cell_type": "code",
      "source": [
        "estabelecimentos_with_cnae = estabelecimentos.join(cnaes, estabelecimentos.CNAE_PRINCIPAL ==  cnaes.CNAE,\"inner\")"
      ],
      "metadata": {
        "id": "M5XpND8K7deb"
      },
      "id": "M5XpND8K7deb",
      "execution_count": null,
      "outputs": []
    },
    {
      "cell_type": "code",
      "source": [
        "estabelecimentos_with_cnae.printSchema()"
      ],
      "metadata": {
        "id": "qye09bFz8EIU"
      },
      "id": "qye09bFz8EIU",
      "execution_count": null,
      "outputs": []
    },
    {
      "cell_type": "code",
      "source": [
        "estabelecimentos_with_cnae.createOrReplaceTempView(\"estabelecimentos_with_cnae\")\n",
        "\n",
        "spark.sql(\"SELECT COUNT(*) from estabelecimentos_with_cnae WHERE is_cnae_cultivo(DESCRICAO_CNAE) == True\").show()"
      ],
      "metadata": {
        "id": "7puCg40H6Gsw"
      },
      "id": "7puCg40H6Gsw",
      "execution_count": null,
      "outputs": []
    },
    {
      "cell_type": "code",
      "source": [
        "estabelecimentos.createOrReplaceTempView(\"estabelecimentos\")\n",
        "spark.sql(\"SELECT COUNT(*) from estabelecimentos WHERE IDENTIFICADOR_MATRIZ_FILIAL = 2\").show()"
      ],
      "metadata": {
        "id": "ZlHatIkmBTya"
      },
      "id": "ZlHatIkmBTya",
      "execution_count": null,
      "outputs": []
    },
    {
      "cell_type": "code",
      "execution_count": null,
      "id": "3f65f13a",
      "metadata": {
        "id": "3f65f13a"
      },
      "outputs": [],
      "source": [
        "from pyspark.sql.functions import col\n",
        "\n",
        "fire_df.groupBy('CallType').count().sort(col(\"count\").desc()).show()"
      ]
    },
    {
      "cell_type": "code",
      "execution_count": null,
      "id": "226c5e08",
      "metadata": {
        "id": "226c5e08"
      },
      "outputs": [],
      "source": [
        "spark.sql(\"SELECT CallType, COUNT(*) AS COUNT from fire_table  \\\n",
        "            GROUP BY CallType ORDER BY COUNT DESC\").show()"
      ]
    },
    {
      "cell_type": "code",
      "execution_count": null,
      "id": "e683f185",
      "metadata": {
        "id": "e683f185"
      },
      "outputs": [],
      "source": [
        "fire_df = fire_df.withColumnRenamed(\"Delay\", \"ResponseDelayinMins\")\n",
        "fire_df.createOrReplaceTempView(\"fire_table\")\n",
        "\n",
        "\n",
        "spark.sql(\"SELECT CallNumber, ResponseDelayInMins FROM fire_table \\\n",
        "            WHERE ResponseDelayInMins > 50\").show()\n",
        "\n"
      ]
    }
  ],
  "metadata": {
    "kernelspec": {
      "display_name": "Python 3 (ipykernel)",
      "language": "python",
      "name": "python3"
    },
    "language_info": {
      "codemirror_mode": {
        "name": "ipython",
        "version": 3
      },
      "file_extension": ".py",
      "mimetype": "text/x-python",
      "name": "python",
      "nbconvert_exporter": "python",
      "pygments_lexer": "ipython3",
      "version": "3.10.6"
    },
    "colab": {
      "provenance": []
    }
  },
  "nbformat": 4,
  "nbformat_minor": 5
}