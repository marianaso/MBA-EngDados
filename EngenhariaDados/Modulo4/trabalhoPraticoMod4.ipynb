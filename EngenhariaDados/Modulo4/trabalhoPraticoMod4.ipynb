{
 "cells": [
  {
   "cell_type": "code",
   "execution_count": null,
   "metadata": {},
   "outputs": [],
   "source": [
    "import pandas as pd\n",
    "import numpy as np\n",
    "import subprocess\n",
    "import os\n",
    "import zipfile"
   ]
  },
  {
   "cell_type": "code",
   "execution_count": null,
   "metadata": {},
   "outputs": [],
   "source": [
    "os.makedirs('./enem2020', exist_ok=True)"
   ]
  },
  {
   "cell_type": "code",
   "execution_count": null,
   "metadata": {},
   "outputs": [],
   "source": [
    "url = 'https://download.inep.gov.br/microdados/microdados_enem_2020.zip'\n",
    "destination = './enem2020/microdados_enem_2020.zip'\n",
    "\n",
    "subprocess.run(['wget', url, '-O', destination, '--no-check-certificate'])"
   ]
  },
  {
   "cell_type": "code",
   "execution_count": null,
   "metadata": {},
   "outputs": [],
   "source": [
    "myzip = zipfile.ZipFile('./enem2020/microdados_enem_2020.zip')\n",
    "myzip.extractall('./enem2020')"
   ]
  },
  {
   "cell_type": "code",
   "execution_count": null,
   "metadata": {},
   "outputs": [],
   "source": [
    "enem = pd.read_csv('./enem2020/DADOS/MICRODADOS_ENEM_2020.csv', sep=';', encoding='latin1')"
   ]
  },
  {
   "cell_type": "code",
   "execution_count": null,
   "metadata": {},
   "outputs": [],
   "source": [
    "enemMG = enem[enem['SG_UF_ESC'] == 'MG']\n",
    "enemMG = enemMG.drop('Unnamed: 0', axis=1)"
   ]
  },
  {
   "cell_type": "code",
   "execution_count": null,
   "metadata": {},
   "outputs": [],
   "source": [
    "enemMG.to_csv('./enem2020/dadosMG.csv', sep=';')"
   ]
  },
  {
   "cell_type": "code",
   "execution_count": null,
   "metadata": {},
   "outputs": [],
   "source": [
    "enem = pd.read_csv('./enem2020/dadosMG.csv', sep=';', encoding='utf-8')\n",
    "enem.head()"
   ]
  },
  {
   "cell_type": "code",
   "execution_count": null,
   "metadata": {},
   "outputs": [],
   "source": [
    "enem['NU_NOTA_MT'].mean()"
   ]
  },
  {
   "cell_type": "code",
   "execution_count": null,
   "metadata": {},
   "outputs": [],
   "source": [
    "enem['NU_NOTA_LC'].mean()"
   ]
  },
  {
   "cell_type": "code",
   "execution_count": null,
   "metadata": {},
   "outputs": [],
   "source": [
    "enem.groupby('TP_SEXO')['NU_NOTA_CH'].mean()"
   ]
  },
  {
   "cell_type": "code",
   "execution_count": null,
   "metadata": {},
   "outputs": [],
   "source": [
    "enem[(enem['TP_SEXO'] == 'F') & (enem['NO_MUNICIPIO_ESC'] == 'Montes Claros')]['NU_NOTA_MT'].mean()"
   ]
  },
  {
   "cell_type": "code",
   "execution_count": null,
   "metadata": {},
   "outputs": [],
   "source": [
    "enem[(enem['Q021'] == 'B') & (enem['NO_MUNICIPIO_ESC'] == 'Sabará')]['NU_NOTA_MT'].mean()"
   ]
  },
  {
   "cell_type": "code",
   "execution_count": null,
   "metadata": {},
   "outputs": [],
   "source": [
    "enem[(enem['Q016'] == 'C')]['NU_NOTA_CH'].mean()"
   ]
  },
  {
   "cell_type": "code",
   "execution_count": null,
   "metadata": {},
   "outputs": [],
   "source": [
    "enem[(enem['Q002'] == 'G')]['NU_NOTA_MT'].mean()"
   ]
  },
  {
   "cell_type": "code",
   "execution_count": null,
   "metadata": {},
   "outputs": [],
   "source": [
    "enem[(enem['NO_MUNICIPIO_ESC'] == 'Conselheiro Lafaiete') | (enem['NO_MUNICIPIO_ESC'] == 'Belo Horizonte')]['NU_NOTA_MT'].mean()"
   ]
  },
  {
   "cell_type": "code",
   "execution_count": null,
   "metadata": {},
   "outputs": [],
   "source": [
    "enem[(enem['Q005'] == 1)]['NU_NOTA_CH'].mean()"
   ]
  },
  {
   "cell_type": "code",
   "execution_count": null,
   "metadata": {},
   "outputs": [],
   "source": [
    "enem[(enem['Q001'] == 'G') & (enem['Q006'] == 'L')]['NU_NOTA_CH'].mean()"
   ]
  },
  {
   "cell_type": "code",
   "execution_count": null,
   "metadata": {},
   "outputs": [],
   "source": [
    "enem[(enem['NO_MUNICIPIO_ESC'] == 'Lavras') & (enem['TP_SEXO'] == 'F') & (enem['TP_LINGUA'] == 1)]['NU_NOTA_MT'].mean()"
   ]
  },
  {
   "cell_type": "code",
   "execution_count": null,
   "metadata": {},
   "outputs": [],
   "source": [
    "enem[(enem['NO_MUNICIPIO_ESC'] == 'Ouro Preto') & (enem['TP_SEXO'] == 'M')]['NU_NOTA_MT'].mean()"
   ]
  },
  {
   "cell_type": "code",
   "execution_count": null,
   "metadata": {},
   "outputs": [],
   "source": [
    "enem[(enem['TP_FAIXA_ETARIA'] == 11)]['NU_NOTA_CH'].mean()"
   ]
  },
  {
   "cell_type": "code",
   "execution_count": null,
   "metadata": {},
   "outputs": [],
   "source": [
    "enem[((enem['NO_MUNICIPIO_ESC'] == 'Belo Horizonte') | (enem['NO_MUNICIPIO_ESC'] == 'Sabará') | (enem['NO_MUNICIPIO_ESC'] == 'Nova Lima') | (enem['NO_MUNICIPIO_ESC'] == 'Betim')) & (enem['TP_SEXO'] == 'F') & (enem['TP_ESCOLA'] == 3)]['NU_NOTA_MT'].mean()"
   ]
  }
 ],
 "metadata": {
  "kernelspec": {
   "display_name": "Python 3",
   "language": "python",
   "name": "python3"
  },
  "language_info": {
   "codemirror_mode": {
    "name": "ipython",
    "version": 3
   },
   "file_extension": ".py",
   "mimetype": "text/x-python",
   "name": "python",
   "nbconvert_exporter": "python",
   "pygments_lexer": "ipython3",
   "version": "3.11.3"
  },
  "orig_nbformat": 4
 },
 "nbformat": 4,
 "nbformat_minor": 2
}
